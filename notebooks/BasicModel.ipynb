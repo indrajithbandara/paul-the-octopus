{
 "cells": [
  {
   "cell_type": "code",
   "execution_count": 95,
   "metadata": {
    "collapsed": true
   },
   "outputs": [],
   "source": [
    "%matplotlib inline\n",
    "\n",
    "import numpy as np\n",
    "import pandas as pd\n",
    "import os, sys\n",
    "\n",
    "import matplotlib.pyplot as plt\n",
    "import seaborn as sns\n",
    "\n",
    "import sqlite3\n",
    "\n",
    "from collections import Counter, defaultdict\n",
    "from bs4 import BeautifulSoup\n",
    "\n",
    "from numpy import random\n",
    "\n",
    "import warnings\n",
    "warnings.filterwarnings('ignore')\n",
    "\n",
    "np.random.seed(1)\n",
    "\n",
    "basepath = os.path.expanduser('~/Desktop/src/paul-the-octopus/')\n",
    "sys.path.append(os.path.join(basepath, 'src'))"
   ]
  },
  {
   "cell_type": "code",
   "execution_count": 69,
   "metadata": {
    "collapsed": false
   },
   "outputs": [],
   "source": [
    "with sqlite3.connect(os.path.join(basepath,'data/raw/database.sqlite')) as con:\n",
    "    countries = pd.read_sql_query(\"SELECT * from Country\", con)\n",
    "    matches = pd.read_sql_query(\"SELECT * from Match\", con, parse_dates=['date'])\n",
    "    leagues = pd.read_sql_query(\"SELECT * from League\", con)\n",
    "    teams = pd.read_sql_query(\"SELECT * from Team\", con)\n",
    "    players = pd.read_sql_query(\"SELECT * from Player\", con)\n",
    "    players_stats = pd.read_sql_query(\"SELECT * from Player_Stats\", con)\n",
    "    "
   ]
  },
  {
   "cell_type": "markdown",
   "metadata": {},
   "source": [
    "* Countries table contain information regarding country id and country name\n",
    "* Matches contain information about a league game which has information related to fixture,\n",
    "  and how the two teams were set up, match statistics and details about events that took place.\n",
    "* Leagues contain league id, country id and name of the league\n",
    "* Teams contain information about team id, team api id and team long and short name\n",
    "* Players contain information about a player e.g. player api id, player name, fifa id, birthday and height, weight\n",
    "* Players_stats contains player statistics obtained from fifa"
   ]
  },
  {
   "cell_type": "code",
   "execution_count": 70,
   "metadata": {
    "collapsed": false
   },
   "outputs": [],
   "source": [
    "# consider only english premier league for now.\n",
    "english_league_id = countries.loc[countries.name == 'England', 'id'].values[0]"
   ]
  },
  {
   "cell_type": "markdown",
   "metadata": {},
   "source": [
    "** League Id and Country Id for English Premier League is same for now. **"
   ]
  },
  {
   "cell_type": "code",
   "execution_count": 114,
   "metadata": {
    "collapsed": true
   },
   "outputs": [],
   "source": [
    "epl = matches.loc[matches.country_id == english_league_id]"
   ]
  },
  {
   "cell_type": "code",
   "execution_count": 76,
   "metadata": {
    "collapsed": false
   },
   "outputs": [
    {
     "data": {
      "text/plain": [
       "['goal',\n",
       " 'shoton',\n",
       " 'shotoff',\n",
       " 'foulcommit',\n",
       " 'card',\n",
       " 'cross',\n",
       " 'corner',\n",
       " 'possession']"
      ]
     },
     "execution_count": 76,
     "metadata": {},
     "output_type": "execute_result"
    }
   ],
   "source": [
    "list(epl.columns[77:85])"
   ]
  },
  {
   "cell_type": "code",
   "execution_count": 112,
   "metadata": {
    "collapsed": false
   },
   "outputs": [
    {
     "name": "stdout",
     "output_type": "stream",
     "text": [
      "team_id: 10260 and home_team_id: 10260\n",
      "<class 'str'>\n",
      "<class 'numpy.int64'>\n",
      "\n",
      "\n",
      "team_id: 10260 and home_team_id: 10260\n",
      "<class 'str'>\n",
      "<class 'numpy.int64'>\n",
      "\n",
      "\n",
      "team_id: 10260 and home_team_id: 10260\n",
      "<class 'str'>\n",
      "<class 'numpy.int64'>\n",
      "\n",
      "\n"
     ]
    },
    {
     "data": {
      "text/plain": [
       "(array([ 0.]), array([ 3.]))"
      ]
     },
     "execution_count": 112,
     "metadata": {},
     "output_type": "execute_result"
    }
   ],
   "source": [
    "get_match_statistics(epl.iloc[:1], 'card')"
   ]
  },
  {
   "cell_type": "code",
   "execution_count": 107,
   "metadata": {
    "collapsed": false
   },
   "outputs": [
    {
     "data": {
      "text/plain": [
       "<html><body><possession><value><comment>65</comment><event_incident_typefk>352</event_incident_typefk><elapsed>27</elapsed><subtype>possession</subtype><sortorder>0</sortorder><awaypos>35</awaypos><homepos>65</homepos><n>67</n><type>special</type><id>375608</id></value><value><comment>61</comment><elapsed_plus>2</elapsed_plus><event_incident_typefk>352</event_incident_typefk><elapsed>45</elapsed><subtype>possession</subtype><sortorder>1</sortorder><awaypos>39</awaypos><homepos>61</homepos><n>114</n><type>special</type><id>375663</id></value><value><comment>65</comment><event_incident_typefk>352</event_incident_typefk><elapsed>74</elapsed><subtype>possession</subtype><sortorder>3</sortorder><awaypos>35</awaypos><homepos>65</homepos><n>177</n><type>special</type><id>375787</id></value><value><comment>66</comment><elapsed_plus>3</elapsed_plus><event_incident_typefk>352</event_incident_typefk><elapsed>90</elapsed><subtype>possession</subtype><sortorder>2</sortorder><awaypos>34</awaypos><homepos>66</homepos><n>199</n><type>special</type><id>375909</id></value></possession></body></html>"
      ]
     },
     "execution_count": 107,
     "metadata": {},
     "output_type": "execute_result"
    }
   ],
   "source": [
    "BeautifulSoup(epl.possession.iloc[1])"
   ]
  },
  {
   "cell_type": "markdown",
   "metadata": {},
   "source": [
    "### Features"
   ]
  },
  {
   "cell_type": "code",
   "execution_count": 113,
   "metadata": {
    "collapsed": false
   },
   "outputs": [],
   "source": [
    "def get_formation(match_api_id, team_type):\n",
    "    formation_dict = Counter([matches.loc[matches.match_api_id == match_api_id]['%s_player_Y%d'%(team_type, i)].values[0] for i in range(1, 12)])\n",
    "    sorted_keys = sorted(formation_dict)\n",
    "\n",
    "    formation = ''\n",
    "    for key in sorted_keys[1:-1]:\n",
    "        y = formation_dict[key]\n",
    "        formation += '%d-' % y\n",
    "    formation += '%d' % formation_dict[sorted_keys[-1]]\n",
    "    \n",
    "    return formation\n",
    "\n",
    "def decompose_season(matches):\n",
    "    \"\"\"\n",
    "    Convert to ['2008/2009', '2009/2010'] into ([2008, 2009], [2009, 2010])\n",
    "    \"\"\"\n",
    "    season_start = []\n",
    "    season_end = []\n",
    "    \n",
    "    for season in matches.season:\n",
    "        season_split = season.split('/')\n",
    "        season_start.append(int(season_split[0]))\n",
    "        season_end.append(int(season_split[1]))\n",
    "    \n",
    "    return (season_start, season_end)\n",
    "\n",
    "def calculate_result(match_df):\n",
    "    \"\"\"\n",
    "    Calculate results based on number of goals scored by home and away teams.\n",
    "    \"\"\"\n",
    "    home_team_goals = match_df['home_team_goal']\n",
    "    away_team_goals = match_df['away_team_goal']\n",
    "    \n",
    "    if home_team_goals > away_team_goals:\n",
    "        return 'home'\n",
    "    elif away_team_goals > home_team_goals:\n",
    "        return 'away'\n",
    "    else:\n",
    "        return 'draw'\n",
    "\n",
    "def get_match_statistics(match_df, feature):\n",
    "    home_team_id = match_df['home_team_api_id']\n",
    "    away_team_id = match_df['away_team_api_id']\n",
    "        \n",
    "    statistics = match_df[feature]\n",
    "\n",
    "    home_team_counts = np.zeros(len(statistics))\n",
    "    away_team_counts = np.zeros(len(statistics))\n",
    "\n",
    "    for i, stat in enumerate(statistics):\n",
    "        if stat is not None:\n",
    "            parsed_xml = BeautifulSoup(stat, 'xml')\n",
    "\n",
    "            for v in parsed_xml.find_all('value'):\n",
    "                if v.find('team') is not None:\n",
    "                    team_id = v.find('team').text\n",
    "                    \n",
    "                    if team_id == str(home_team_id.iloc[i]):\n",
    "                        home_team_counts[i] += 1\n",
    "                    else:\n",
    "                        away_team_counts[i] += 1\n",
    "\n",
    "    return (home_team_counts, away_team_counts)"
   ]
  },
  {
   "cell_type": "code",
   "execution_count": 115,
   "metadata": {
    "collapsed": true
   },
   "outputs": [],
   "source": [
    "epl['home_team_formation'] = epl.match_api_id.apply(get_formation, args=('home', ))\n",
    "epl['away_team_formation'] = epl.match_api_id.apply(get_formation, args=('away',))\n",
    "\n",
    "epl['season_start'], epl['season_end'] = decompose_season(epl)\n",
    "epl['result'] = epl.apply(calculate_result, axis=1)\n",
    "\n",
    "epl['home_team_cards'], epl['away_team_cards'] = get_match_statistics(epl, 'card')\n",
    "epl['home_team_shots_on_target'], epl['away_team_shots_on_target'] = get_match_statistics(epl, 'shoton')\n",
    "epl['home_team_shots_off_target'], epl['away_team_shots_off_target'] = get_match_statistics(epl, 'shotoff')\n",
    "epl['home_team_crosses'], epl['away_team_crosses'] = get_match_statistics(epl, 'cross')\n",
    "epl['home_team_corners'], epl['away_team_corners'] = get_match_statistics(epl, 'corner')\n",
    "epl['home_team_fouls'], epl['away_team_fouls'] = get_match_statistics(epl, 'foulcommit')"
   ]
  },
  {
   "cell_type": "code",
   "execution_count": 116,
   "metadata": {
    "collapsed": false
   },
   "outputs": [],
   "source": [
    "features = ['home_team_api_id', 'away_team_api_id','season', 'stage', 'date', \\\n",
    "            'home_team_goal', 'away_team_goal', 'home_team_formation', 'away_team_formation',\\\n",
    "            'season_start', 'season_end', 'result', 'home_team_cards', 'away_team_cards',\\\n",
    "            'home_team_shots_on_target', 'away_team_shots_on_target', 'home_team_shots_off_target',\\\n",
    "            'away_team_shots_off_target', 'home_team_corners', 'away_team_corners', 'home_team_crosses',\\\n",
    "            'away_team_crosses', 'home_team_fouls', 'away_team_fouls'\n",
    "           ]\n",
    "            \n",
    "processed = epl[features]"
   ]
  },
  {
   "cell_type": "code",
   "execution_count": 117,
   "metadata": {
    "collapsed": false
   },
   "outputs": [
    {
     "data": {
      "text/html": [
       "<div>\n",
       "<table border=\"1\" class=\"dataframe\">\n",
       "  <thead>\n",
       "    <tr style=\"text-align: right;\">\n",
       "      <th></th>\n",
       "      <th>home_team_api_id</th>\n",
       "      <th>away_team_api_id</th>\n",
       "      <th>season</th>\n",
       "      <th>stage</th>\n",
       "      <th>date</th>\n",
       "      <th>home_team_goal</th>\n",
       "      <th>away_team_goal</th>\n",
       "      <th>home_team_formation</th>\n",
       "      <th>away_team_formation</th>\n",
       "      <th>season_start</th>\n",
       "      <th>...</th>\n",
       "      <th>home_team_shots_on_target</th>\n",
       "      <th>away_team_shots_on_target</th>\n",
       "      <th>home_team_shots_off_target</th>\n",
       "      <th>away_team_shots_off_target</th>\n",
       "      <th>home_team_corners</th>\n",
       "      <th>away_team_corners</th>\n",
       "      <th>home_team_crosses</th>\n",
       "      <th>away_team_crosses</th>\n",
       "      <th>home_team_fouls</th>\n",
       "      <th>away_team_fouls</th>\n",
       "    </tr>\n",
       "  </thead>\n",
       "  <tbody>\n",
       "    <tr>\n",
       "      <th>1728</th>\n",
       "      <td>10260</td>\n",
       "      <td>10261</td>\n",
       "      <td>2008/2009</td>\n",
       "      <td>1</td>\n",
       "      <td>2008-08-17</td>\n",
       "      <td>1</td>\n",
       "      <td>1</td>\n",
       "      <td>4-4-2</td>\n",
       "      <td>4-4-1-1</td>\n",
       "      <td>2008</td>\n",
       "      <td>...</td>\n",
       "      <td>11.0</td>\n",
       "      <td>1.0</td>\n",
       "      <td>10.0</td>\n",
       "      <td>9.0</td>\n",
       "      <td>6.0</td>\n",
       "      <td>6.0</td>\n",
       "      <td>24.0</td>\n",
       "      <td>9.0</td>\n",
       "      <td>16.0</td>\n",
       "      <td>11.0</td>\n",
       "    </tr>\n",
       "    <tr>\n",
       "      <th>1729</th>\n",
       "      <td>9825</td>\n",
       "      <td>8659</td>\n",
       "      <td>2008/2009</td>\n",
       "      <td>1</td>\n",
       "      <td>2008-08-16</td>\n",
       "      <td>1</td>\n",
       "      <td>0</td>\n",
       "      <td>4-4-2</td>\n",
       "      <td>4-5-1</td>\n",
       "      <td>2008</td>\n",
       "      <td>...</td>\n",
       "      <td>12.0</td>\n",
       "      <td>2.0</td>\n",
       "      <td>13.0</td>\n",
       "      <td>3.0</td>\n",
       "      <td>7.0</td>\n",
       "      <td>5.0</td>\n",
       "      <td>21.0</td>\n",
       "      <td>7.0</td>\n",
       "      <td>11.0</td>\n",
       "      <td>9.0</td>\n",
       "    </tr>\n",
       "    <tr>\n",
       "      <th>1730</th>\n",
       "      <td>8472</td>\n",
       "      <td>8650</td>\n",
       "      <td>2008/2009</td>\n",
       "      <td>1</td>\n",
       "      <td>2008-08-16</td>\n",
       "      <td>0</td>\n",
       "      <td>1</td>\n",
       "      <td>4-4-2</td>\n",
       "      <td>4-4-2</td>\n",
       "      <td>2008</td>\n",
       "      <td>...</td>\n",
       "      <td>4.0</td>\n",
       "      <td>11.0</td>\n",
       "      <td>3.0</td>\n",
       "      <td>5.0</td>\n",
       "      <td>1.0</td>\n",
       "      <td>8.0</td>\n",
       "      <td>15.0</td>\n",
       "      <td>19.0</td>\n",
       "      <td>13.0</td>\n",
       "      <td>12.0</td>\n",
       "    </tr>\n",
       "    <tr>\n",
       "      <th>1731</th>\n",
       "      <td>8654</td>\n",
       "      <td>8528</td>\n",
       "      <td>2008/2009</td>\n",
       "      <td>1</td>\n",
       "      <td>2008-08-16</td>\n",
       "      <td>2</td>\n",
       "      <td>1</td>\n",
       "      <td>4-4-2</td>\n",
       "      <td>4-4-2</td>\n",
       "      <td>2008</td>\n",
       "      <td>...</td>\n",
       "      <td>5.0</td>\n",
       "      <td>7.0</td>\n",
       "      <td>7.0</td>\n",
       "      <td>15.0</td>\n",
       "      <td>6.0</td>\n",
       "      <td>10.0</td>\n",
       "      <td>15.0</td>\n",
       "      <td>27.0</td>\n",
       "      <td>14.0</td>\n",
       "      <td>13.0</td>\n",
       "    </tr>\n",
       "    <tr>\n",
       "      <th>1732</th>\n",
       "      <td>10252</td>\n",
       "      <td>8456</td>\n",
       "      <td>2008/2009</td>\n",
       "      <td>1</td>\n",
       "      <td>2008-08-17</td>\n",
       "      <td>4</td>\n",
       "      <td>2</td>\n",
       "      <td>4-4-2</td>\n",
       "      <td>4-5-1</td>\n",
       "      <td>2008</td>\n",
       "      <td>...</td>\n",
       "      <td>5.0</td>\n",
       "      <td>9.0</td>\n",
       "      <td>4.0</td>\n",
       "      <td>5.0</td>\n",
       "      <td>7.0</td>\n",
       "      <td>8.0</td>\n",
       "      <td>16.0</td>\n",
       "      <td>16.0</td>\n",
       "      <td>11.0</td>\n",
       "      <td>13.0</td>\n",
       "    </tr>\n",
       "  </tbody>\n",
       "</table>\n",
       "<p>5 rows × 24 columns</p>\n",
       "</div>"
      ],
      "text/plain": [
       "      home_team_api_id  away_team_api_id     season  stage       date  \\\n",
       "1728             10260             10261  2008/2009      1 2008-08-17   \n",
       "1729              9825              8659  2008/2009      1 2008-08-16   \n",
       "1730              8472              8650  2008/2009      1 2008-08-16   \n",
       "1731              8654              8528  2008/2009      1 2008-08-16   \n",
       "1732             10252              8456  2008/2009      1 2008-08-17   \n",
       "\n",
       "      home_team_goal  away_team_goal home_team_formation away_team_formation  \\\n",
       "1728               1               1               4-4-2             4-4-1-1   \n",
       "1729               1               0               4-4-2               4-5-1   \n",
       "1730               0               1               4-4-2               4-4-2   \n",
       "1731               2               1               4-4-2               4-4-2   \n",
       "1732               4               2               4-4-2               4-5-1   \n",
       "\n",
       "      season_start       ...         home_team_shots_on_target  \\\n",
       "1728          2008       ...                              11.0   \n",
       "1729          2008       ...                              12.0   \n",
       "1730          2008       ...                               4.0   \n",
       "1731          2008       ...                               5.0   \n",
       "1732          2008       ...                               5.0   \n",
       "\n",
       "     away_team_shots_on_target  home_team_shots_off_target  \\\n",
       "1728                       1.0                        10.0   \n",
       "1729                       2.0                        13.0   \n",
       "1730                      11.0                         3.0   \n",
       "1731                       7.0                         7.0   \n",
       "1732                       9.0                         4.0   \n",
       "\n",
       "      away_team_shots_off_target  home_team_corners  away_team_corners  \\\n",
       "1728                         9.0                6.0                6.0   \n",
       "1729                         3.0                7.0                5.0   \n",
       "1730                         5.0                1.0                8.0   \n",
       "1731                        15.0                6.0               10.0   \n",
       "1732                         5.0                7.0                8.0   \n",
       "\n",
       "      home_team_crosses  away_team_crosses  home_team_fouls  away_team_fouls  \n",
       "1728               24.0                9.0             16.0             11.0  \n",
       "1729               21.0                7.0             11.0              9.0  \n",
       "1730               15.0               19.0             13.0             12.0  \n",
       "1731               15.0               27.0             14.0             13.0  \n",
       "1732               16.0               16.0             11.0             13.0  \n",
       "\n",
       "[5 rows x 24 columns]"
      ]
     },
     "execution_count": 117,
     "metadata": {},
     "output_type": "execute_result"
    }
   ],
   "source": [
    "processed.head()"
   ]
  }
 ],
 "metadata": {
  "kernelspec": {
   "display_name": "Python [Root]",
   "language": "python",
   "name": "Python [Root]"
  },
  "language_info": {
   "codemirror_mode": {
    "name": "ipython",
    "version": 3
   },
   "file_extension": ".py",
   "mimetype": "text/x-python",
   "name": "python",
   "nbconvert_exporter": "python",
   "pygments_lexer": "ipython3",
   "version": "3.5.2"
  }
 },
 "nbformat": 4,
 "nbformat_minor": 0
}
