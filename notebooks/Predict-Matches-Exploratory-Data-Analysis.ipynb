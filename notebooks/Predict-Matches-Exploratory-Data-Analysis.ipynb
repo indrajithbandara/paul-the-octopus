{
 "cells": [
  {
   "cell_type": "code",
   "execution_count": 74,
   "metadata": {
    "collapsed": true
   },
   "outputs": [],
   "source": [
    "%matplotlib inline\n",
    "\n",
    "import numpy as np\n",
    "import matplotlib.pyplot as plt\n",
    "import seaborn as sns\n",
    "import pandas as pd\n",
    "import sqlite3\n",
    "\n",
    "from collections import Counter, defaultdict\n",
    "from bs4 import BeautifulSoup\n",
    "\n",
    "import numpy as np\n",
    "from numpy import random"
   ]
  },
  {
   "cell_type": "code",
   "execution_count": 203,
   "metadata": {
    "collapsed": true
   },
   "outputs": [],
   "source": [
    "#load data\n",
    "\n",
    "with sqlite3.connect('../data/raw/database.sqlite') as con:\n",
    "    countries = pd.read_sql_query(\"SELECT * from Country\", con)\n",
    "    matches = pd.read_sql_query(\"SELECT * from Match\", con, parse_dates=['date'])\n",
    "    leagues = pd.read_sql_query(\"SELECT * from League\", con)\n",
    "    teams = pd.read_sql_query(\"SELECT * from Team\", con)\n",
    "    players = pd.read_sql_query(\"SELECT * from Player\", con)\n",
    "    players_stats = pd.read_sql_query(\"SELECT * from Player_Stats\", con)"
   ]
  },
  {
   "cell_type": "code",
   "execution_count": 204,
   "metadata": {
    "collapsed": false
   },
   "outputs": [
    {
     "data": {
      "text/html": [
       "<div>\n",
       "<table border=\"1\" class=\"dataframe\">\n",
       "  <thead>\n",
       "    <tr style=\"text-align: right;\">\n",
       "      <th></th>\n",
       "      <th>id</th>\n",
       "      <th>country_id</th>\n",
       "      <th>league_id</th>\n",
       "      <th>season</th>\n",
       "      <th>stage</th>\n",
       "      <th>date</th>\n",
       "      <th>match_api_id</th>\n",
       "      <th>home_team_api_id</th>\n",
       "      <th>away_team_api_id</th>\n",
       "      <th>home_team_goal</th>\n",
       "      <th>...</th>\n",
       "      <th>SJA</th>\n",
       "      <th>VCH</th>\n",
       "      <th>VCD</th>\n",
       "      <th>VCA</th>\n",
       "      <th>GBH</th>\n",
       "      <th>GBD</th>\n",
       "      <th>GBA</th>\n",
       "      <th>BSH</th>\n",
       "      <th>BSD</th>\n",
       "      <th>BSA</th>\n",
       "    </tr>\n",
       "  </thead>\n",
       "  <tbody>\n",
       "    <tr>\n",
       "      <th>1728</th>\n",
       "      <td>1729</td>\n",
       "      <td>1729</td>\n",
       "      <td>1729</td>\n",
       "      <td>2008/2009</td>\n",
       "      <td>1</td>\n",
       "      <td>2008-08-17</td>\n",
       "      <td>489042</td>\n",
       "      <td>10260</td>\n",
       "      <td>10261</td>\n",
       "      <td>1</td>\n",
       "      <td>...</td>\n",
       "      <td>10.00</td>\n",
       "      <td>1.28</td>\n",
       "      <td>5.5</td>\n",
       "      <td>12.00</td>\n",
       "      <td>1.30</td>\n",
       "      <td>4.75</td>\n",
       "      <td>10.0</td>\n",
       "      <td>1.29</td>\n",
       "      <td>4.50</td>\n",
       "      <td>11.00</td>\n",
       "    </tr>\n",
       "    <tr>\n",
       "      <th>1729</th>\n",
       "      <td>1730</td>\n",
       "      <td>1729</td>\n",
       "      <td>1729</td>\n",
       "      <td>2008/2009</td>\n",
       "      <td>1</td>\n",
       "      <td>2008-08-16</td>\n",
       "      <td>489043</td>\n",
       "      <td>9825</td>\n",
       "      <td>8659</td>\n",
       "      <td>1</td>\n",
       "      <td>...</td>\n",
       "      <td>NaN</td>\n",
       "      <td>NaN</td>\n",
       "      <td>NaN</td>\n",
       "      <td>NaN</td>\n",
       "      <td>NaN</td>\n",
       "      <td>NaN</td>\n",
       "      <td>NaN</td>\n",
       "      <td>NaN</td>\n",
       "      <td>NaN</td>\n",
       "      <td>NaN</td>\n",
       "    </tr>\n",
       "    <tr>\n",
       "      <th>1730</th>\n",
       "      <td>1731</td>\n",
       "      <td>1729</td>\n",
       "      <td>1729</td>\n",
       "      <td>2008/2009</td>\n",
       "      <td>1</td>\n",
       "      <td>2008-08-16</td>\n",
       "      <td>489044</td>\n",
       "      <td>8472</td>\n",
       "      <td>8650</td>\n",
       "      <td>0</td>\n",
       "      <td>...</td>\n",
       "      <td>1.73</td>\n",
       "      <td>5.50</td>\n",
       "      <td>3.8</td>\n",
       "      <td>1.65</td>\n",
       "      <td>5.00</td>\n",
       "      <td>3.40</td>\n",
       "      <td>1.7</td>\n",
       "      <td>4.50</td>\n",
       "      <td>3.40</td>\n",
       "      <td>1.73</td>\n",
       "    </tr>\n",
       "    <tr>\n",
       "      <th>1731</th>\n",
       "      <td>1732</td>\n",
       "      <td>1729</td>\n",
       "      <td>1729</td>\n",
       "      <td>2008/2009</td>\n",
       "      <td>1</td>\n",
       "      <td>2008-08-16</td>\n",
       "      <td>489045</td>\n",
       "      <td>8654</td>\n",
       "      <td>8528</td>\n",
       "      <td>2</td>\n",
       "      <td>...</td>\n",
       "      <td>3.75</td>\n",
       "      <td>1.90</td>\n",
       "      <td>3.5</td>\n",
       "      <td>4.35</td>\n",
       "      <td>1.91</td>\n",
       "      <td>3.25</td>\n",
       "      <td>4.0</td>\n",
       "      <td>1.91</td>\n",
       "      <td>3.25</td>\n",
       "      <td>3.80</td>\n",
       "    </tr>\n",
       "    <tr>\n",
       "      <th>1732</th>\n",
       "      <td>1733</td>\n",
       "      <td>1729</td>\n",
       "      <td>1729</td>\n",
       "      <td>2008/2009</td>\n",
       "      <td>1</td>\n",
       "      <td>2008-08-17</td>\n",
       "      <td>489046</td>\n",
       "      <td>10252</td>\n",
       "      <td>8456</td>\n",
       "      <td>4</td>\n",
       "      <td>...</td>\n",
       "      <td>3.75</td>\n",
       "      <td>1.90</td>\n",
       "      <td>3.5</td>\n",
       "      <td>4.35</td>\n",
       "      <td>1.91</td>\n",
       "      <td>3.25</td>\n",
       "      <td>4.0</td>\n",
       "      <td>1.91</td>\n",
       "      <td>3.30</td>\n",
       "      <td>3.75</td>\n",
       "    </tr>\n",
       "  </tbody>\n",
       "</table>\n",
       "<p>5 rows × 115 columns</p>\n",
       "</div>"
      ],
      "text/plain": [
       "        id  country_id  league_id     season  stage       date  match_api_id  \\\n",
       "1728  1729        1729       1729  2008/2009      1 2008-08-17        489042   \n",
       "1729  1730        1729       1729  2008/2009      1 2008-08-16        489043   \n",
       "1730  1731        1729       1729  2008/2009      1 2008-08-16        489044   \n",
       "1731  1732        1729       1729  2008/2009      1 2008-08-16        489045   \n",
       "1732  1733        1729       1729  2008/2009      1 2008-08-17        489046   \n",
       "\n",
       "      home_team_api_id  away_team_api_id  home_team_goal  ...      SJA   VCH  \\\n",
       "1728             10260             10261               1  ...    10.00  1.28   \n",
       "1729              9825              8659               1  ...      NaN   NaN   \n",
       "1730              8472              8650               0  ...     1.73  5.50   \n",
       "1731              8654              8528               2  ...     3.75  1.90   \n",
       "1732             10252              8456               4  ...     3.75  1.90   \n",
       "\n",
       "      VCD    VCA   GBH   GBD   GBA   BSH   BSD    BSA  \n",
       "1728  5.5  12.00  1.30  4.75  10.0  1.29  4.50  11.00  \n",
       "1729  NaN    NaN   NaN   NaN   NaN   NaN   NaN    NaN  \n",
       "1730  3.8   1.65  5.00  3.40   1.7  4.50  3.40   1.73  \n",
       "1731  3.5   4.35  1.91  3.25   4.0  1.91  3.25   3.80  \n",
       "1732  3.5   4.35  1.91  3.25   4.0  1.91  3.30   3.75  \n",
       "\n",
       "[5 rows x 115 columns]"
      ]
     },
     "execution_count": 204,
     "metadata": {},
     "output_type": "execute_result"
    }
   ],
   "source": [
    "selected_countries = ['England']\n",
    "countries = countries[countries.name.isin(selected_countries)]\n",
    "leagues = countries.merge(leagues, on='id', suffixes=('', '_y'))\n",
    "matches = matches[matches.league_id.isin(leagues.id)]\n",
    "matches.head()"
   ]
  },
  {
   "cell_type": "code",
   "execution_count": 206,
   "metadata": {
    "collapsed": false
   },
   "outputs": [],
   "source": [
    "def get_team_long_name(team_id):\n",
    "    return teams.loc[teams.team_api_id == team_id, 'team_long_name'].values[0]\n",
    "\n",
    "def get_team_short_name(team_id):\n",
    "    return teams.loc[teams.team_api_id == team_id, 'team_short_name'].values[0]\n",
    "\n",
    "def get_formation(match_api_id, team_type):\n",
    "    formation_dict = Counter([matches.loc[matches.match_api_id == match_api_id]['%s_player_Y%d'%(team_type, i)].values[0] for i in range(1, 12)])\n",
    "    sorted_keys = sorted(formation_dict)\n",
    "\n",
    "    formation = ''\n",
    "    for key in sorted_keys[1:-1]:\n",
    "        y = formation_dict[key]\n",
    "        formation += '%d-' % y\n",
    "    formation += '%d' % formation_dict[sorted_keys[-1]]\n",
    "    \n",
    "    return formation\n",
    "\n",
    "matches['home_team_long_name'] = matches.home_team_api_id.map(get_team_long_name)\n",
    "matches['home_team_short_name'] = matches.home_team_api_id.map(get_team_short_name)\n",
    "\n",
    "matches['away_team_long_name'] = matches.away_team_api_id.map(get_team_long_name)\n",
    "matches['away_team_short_name'] = matches.away_team_api_id.map(get_team_short_name)\n",
    "\n",
    "matches['home_team_formation'] = matches.match_api_id.apply(get_formation, args=('home', ))\n",
    "matches['away_team_formation'] = matches.match_api_id.apply(get_formation, args=('away',))"
   ]
  },
  {
   "cell_type": "code",
   "execution_count": 207,
   "metadata": {
    "collapsed": false
   },
   "outputs": [
    {
     "data": {
      "text/html": [
       "<div>\n",
       "<table border=\"1\" class=\"dataframe\">\n",
       "  <thead>\n",
       "    <tr style=\"text-align: right;\">\n",
       "      <th></th>\n",
       "      <th>home_team_goal</th>\n",
       "      <th>away_team_goal</th>\n",
       "      <th>home_team_short_name</th>\n",
       "      <th>away_team_short_name</th>\n",
       "    </tr>\n",
       "  </thead>\n",
       "  <tbody>\n",
       "    <tr>\n",
       "      <th>1728</th>\n",
       "      <td>1</td>\n",
       "      <td>1</td>\n",
       "      <td>MUN</td>\n",
       "      <td>NEW</td>\n",
       "    </tr>\n",
       "    <tr>\n",
       "      <th>1729</th>\n",
       "      <td>1</td>\n",
       "      <td>0</td>\n",
       "      <td>ARS</td>\n",
       "      <td>WBA</td>\n",
       "    </tr>\n",
       "    <tr>\n",
       "      <th>1730</th>\n",
       "      <td>0</td>\n",
       "      <td>1</td>\n",
       "      <td>SUN</td>\n",
       "      <td>LIV</td>\n",
       "    </tr>\n",
       "    <tr>\n",
       "      <th>1731</th>\n",
       "      <td>2</td>\n",
       "      <td>1</td>\n",
       "      <td>WHU</td>\n",
       "      <td>WIG</td>\n",
       "    </tr>\n",
       "    <tr>\n",
       "      <th>1732</th>\n",
       "      <td>4</td>\n",
       "      <td>2</td>\n",
       "      <td>AVL</td>\n",
       "      <td>MCI</td>\n",
       "    </tr>\n",
       "  </tbody>\n",
       "</table>\n",
       "</div>"
      ],
      "text/plain": [
       "      home_team_goal  away_team_goal home_team_short_name away_team_short_name\n",
       "1728               1               1                  MUN                  NEW\n",
       "1729               1               0                  ARS                  WBA\n",
       "1730               0               1                  SUN                  LIV\n",
       "1731               2               1                  WHU                  WIG\n",
       "1732               4               2                  AVL                  MCI"
      ]
     },
     "execution_count": 207,
     "metadata": {},
     "output_type": "execute_result"
    }
   ],
   "source": [
    "matches[['home_team_goal', 'away_team_goal', 'home_team_short_name', 'away_team_short_name']].head()"
   ]
  },
  {
   "cell_type": "code",
   "execution_count": 208,
   "metadata": {
    "collapsed": true
   },
   "outputs": [],
   "source": [
    "def calculate_result(match_df):\n",
    "    home_team_goals = match_df['home_team_goal']\n",
    "    away_team_goals = match_df['away_team_goal']\n",
    "    \n",
    "    if home_team_goals > away_team_goals:\n",
    "        return 'home'\n",
    "    elif away_team_goals > home_team_goals:\n",
    "        return 'away'\n",
    "    else:\n",
    "        return 'draw'\n",
    "\n",
    "matches['result'] = matches.apply(calculate_result, axis=1)"
   ]
  },
  {
   "cell_type": "code",
   "execution_count": 209,
   "metadata": {
    "collapsed": false
   },
   "outputs": [],
   "source": [
    "def calculate_crosses_count(crosses):\n",
    "    parsed_xml = BeautifulSoup(crosses, 'xml')\n",
    "    num_crosses = defaultdict(int)\n",
    "    \n",
    "    for x in parsed_xml.find_all('value'):\n",
    "        if x.crosses:\n",
    "            if x.team:\n",
    "                num_crosses[x.team.text] += 1\n",
    "    \n",
    "    return num_crosses\n",
    "\n",
    "crosses_info = matches.cross.map(calculate_crosses_count)"
   ]
  },
  {
   "cell_type": "code",
   "execution_count": 210,
   "metadata": {
    "collapsed": false
   },
   "outputs": [],
   "source": [
    "def get_crosses_list(crosses_info, matches):\n",
    "    home_team_crosses = []\n",
    "    away_team_crosses = []\n",
    "    counter = 0\n",
    "    \n",
    "    for team_id in matches.home_team_api_id.values:\n",
    "        home_team_crosses.append(crosses_info.iloc[counter][str(team_id)])\n",
    "        counter += 1\n",
    "        \n",
    "    counter = 0\n",
    "    for team_id in matches.away_team_api_id.values:\n",
    "        away_team_crosses.append(crosses_info.iloc[counter][str(team_id)])\n",
    "        counter += 1\n",
    "        \n",
    "    return (home_team_crosses, away_team_crosses)"
   ]
  },
  {
   "cell_type": "code",
   "execution_count": 211,
   "metadata": {
    "collapsed": false
   },
   "outputs": [],
   "source": [
    "matches['num_home_team_crosses'], matches['num_away_team_crosses'] = get_crosses_list(crosses_info, matches)"
   ]
  },
  {
   "cell_type": "code",
   "execution_count": 212,
   "metadata": {
    "collapsed": false
   },
   "outputs": [],
   "source": [
    "features = ['date', 'home_team_formation', 'home_team_short_name', 'away_team_formation', \\\n",
    "            'away_team_short_name',  'stage', 'num_home_team_crosses', 'num_away_team_crosses',\\\n",
    "            'B365H','B365D','B365A','result']"
   ]
  },
  {
   "cell_type": "code",
   "execution_count": 213,
   "metadata": {
    "collapsed": true
   },
   "outputs": [],
   "source": [
    "from sklearn.preprocessing import LabelEncoder"
   ]
  },
  {
   "cell_type": "code",
   "execution_count": 214,
   "metadata": {
    "collapsed": true
   },
   "outputs": [],
   "source": [
    "for feature in ['home_team_formation', 'home_team_short_name', 'away_team_formation', 'away_team_short_name', 'result']:\n",
    "    lbl = LabelEncoder()\n",
    "    matches[feature] = lbl.fit_transform(matches[feature])"
   ]
  },
  {
   "cell_type": "code",
   "execution_count": 215,
   "metadata": {
    "collapsed": false
   },
   "outputs": [],
   "source": [
    "matches['weekday'] = matches.date.dt.weekday\n",
    "matches['day'] = matches.date.dt.day"
   ]
  },
  {
   "cell_type": "code",
   "execution_count": 221,
   "metadata": {
    "collapsed": true
   },
   "outputs": [],
   "source": [
    "matches['B365H'] = matches.B365H.fillna(-999)\n",
    "matches['B365A'] = matches.B365A.fillna(-999)\n",
    "matches['B365D'] = matches.B365D.fillna(-999)"
   ]
  },
  {
   "cell_type": "code",
   "execution_count": 222,
   "metadata": {
    "collapsed": true
   },
   "outputs": [],
   "source": [
    "X = matches[['home_team_formation', 'home_team_short_name', 'away_team_formation', \\\n",
    "            'away_team_short_name',  'stage', 'num_home_team_crosses', 'num_away_team_crosses', \\\n",
    "            'B365H','B365D','B365A', 'weekday', 'day']]\n",
    "y = matches.result"
   ]
  },
  {
   "cell_type": "code",
   "execution_count": 223,
   "metadata": {
    "collapsed": false
   },
   "outputs": [],
   "source": [
    "from sklearn.cross_validation import train_test_split\n",
    "\n",
    "X_train, X_test, y_train, y_test = train_test_split(X, y, test_size=0.2, random_state=44)"
   ]
  },
  {
   "cell_type": "code",
   "execution_count": 231,
   "metadata": {
    "collapsed": false
   },
   "outputs": [
    {
     "data": {
      "text/plain": [
       "LogisticRegression(C=1.0, class_weight=None, dual=False, fit_intercept=True,\n",
       "          intercept_scaling=1, max_iter=100, multi_class='ovr', n_jobs=1,\n",
       "          penalty='l2', random_state=None, solver='liblinear', tol=0.0001,\n",
       "          verbose=0, warm_start=False)"
      ]
     },
     "execution_count": 231,
     "metadata": {},
     "output_type": "execute_result"
    }
   ],
   "source": [
    "from sklearn.linear_model import LogisticRegression\n",
    "from sklearn.tree import DecisionTreeClassifier\n",
    "from sklearn.ensemble import BaggingClassifier, AdaBoostClassifier\n",
    "from sklearn.neighbors import KNeighborsClassifier\n",
    "\n",
    "est = LogisticRegression()\n",
    "est.fit(X_train, y_train)"
   ]
  },
  {
   "cell_type": "code",
   "execution_count": 232,
   "metadata": {
    "collapsed": false
   },
   "outputs": [
    {
     "name": "stdout",
     "output_type": "stream",
     "text": [
      "Accuracy score on test set 0.581395 \n"
     ]
    }
   ],
   "source": [
    "from sklearn.metrics import accuracy_score\n",
    "\n",
    "print('Accuracy score on test set %f '%(accuracy_score(y_test, est.predict(X_test))))"
   ]
  },
  {
   "cell_type": "code",
   "execution_count": null,
   "metadata": {
    "collapsed": true
   },
   "outputs": [],
   "source": []
  }
 ],
 "metadata": {
  "anaconda-cloud": {},
  "kernelspec": {
   "display_name": "Python [Root]",
   "language": "python",
   "name": "Python [Root]"
  },
  "language_info": {
   "codemirror_mode": {
    "name": "ipython",
    "version": 3
   },
   "file_extension": ".py",
   "mimetype": "text/x-python",
   "name": "python",
   "nbconvert_exporter": "python",
   "pygments_lexer": "ipython3",
   "version": "3.5.2"
  }
 },
 "nbformat": 4,
 "nbformat_minor": 0
}
