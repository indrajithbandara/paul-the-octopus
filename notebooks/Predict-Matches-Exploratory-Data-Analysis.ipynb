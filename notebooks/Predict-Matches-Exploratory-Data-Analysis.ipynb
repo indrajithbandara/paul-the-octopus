{
 "cells": [
  {
   "cell_type": "code",
   "execution_count": 74,
   "metadata": {
    "collapsed": true
   },
   "outputs": [],
   "source": [
    "%matplotlib inline\n",
    "\n",
    "import numpy as np\n",
    "import matplotlib.pyplot as plt\n",
    "import seaborn as sns\n",
    "import pandas as pd\n",
    "import sqlite3\n",
    "\n",
    "from collections import Counter, defaultdict\n",
    "from bs4 import BeautifulSoup\n",
    "\n",
    "import numpy as np\n",
    "from numpy import random"
   ]
  },
  {
   "cell_type": "code",
   "execution_count": 166,
   "metadata": {
    "collapsed": true
   },
   "outputs": [],
   "source": [
    "#load data\n",
    "\n",
    "with sqlite3.connect('../data/raw/database.sqlite') as con:\n",
    "    countries = pd.read_sql_query(\"SELECT * from Country\", con)\n",
    "    matches = pd.read_sql_query(\"SELECT * from Match\", con, parse_dates=['date'])\n",
    "    leagues = pd.read_sql_query(\"SELECT * from League\", con)\n",
    "    teams = pd.read_sql_query(\"SELECT * from Team\", con)\n",
    "    players = pd.read_sql_query(\"SELECT * from Player\", con)\n",
    "    players_stats = pd.read_sql_query(\"SELECT * from Player_Stats\", con)"
   ]
  },
  {
   "cell_type": "code",
   "execution_count": 167,
   "metadata": {
    "collapsed": false
   },
   "outputs": [
    {
     "data": {
      "text/html": [
       "<div>\n",
       "<table border=\"1\" class=\"dataframe\">\n",
       "  <thead>\n",
       "    <tr style=\"text-align: right;\">\n",
       "      <th></th>\n",
       "      <th>id</th>\n",
       "      <th>country_id</th>\n",
       "      <th>league_id</th>\n",
       "      <th>season</th>\n",
       "      <th>stage</th>\n",
       "      <th>date</th>\n",
       "      <th>match_api_id</th>\n",
       "      <th>home_team_api_id</th>\n",
       "      <th>away_team_api_id</th>\n",
       "      <th>home_team_goal</th>\n",
       "      <th>...</th>\n",
       "      <th>SJA</th>\n",
       "      <th>VCH</th>\n",
       "      <th>VCD</th>\n",
       "      <th>VCA</th>\n",
       "      <th>GBH</th>\n",
       "      <th>GBD</th>\n",
       "      <th>GBA</th>\n",
       "      <th>BSH</th>\n",
       "      <th>BSD</th>\n",
       "      <th>BSA</th>\n",
       "    </tr>\n",
       "  </thead>\n",
       "  <tbody>\n",
       "    <tr>\n",
       "      <th>3215</th>\n",
       "      <td>3216</td>\n",
       "      <td>1729</td>\n",
       "      <td>1729</td>\n",
       "      <td>2012/2013</td>\n",
       "      <td>1</td>\n",
       "      <td>2012-08-20</td>\n",
       "      <td>1228230</td>\n",
       "      <td>8668</td>\n",
       "      <td>10260</td>\n",
       "      <td>1</td>\n",
       "      <td>...</td>\n",
       "      <td>1.91</td>\n",
       "      <td>4.30</td>\n",
       "      <td>3.70</td>\n",
       "      <td>1.87</td>\n",
       "      <td>4.60</td>\n",
       "      <td>3.50</td>\n",
       "      <td>1.83</td>\n",
       "      <td>4.00</td>\n",
       "      <td>3.4</td>\n",
       "      <td>1.91</td>\n",
       "    </tr>\n",
       "    <tr>\n",
       "      <th>3216</th>\n",
       "      <td>3217</td>\n",
       "      <td>1729</td>\n",
       "      <td>1729</td>\n",
       "      <td>2012/2013</td>\n",
       "      <td>1</td>\n",
       "      <td>2012-08-18</td>\n",
       "      <td>1228231</td>\n",
       "      <td>9879</td>\n",
       "      <td>9850</td>\n",
       "      <td>5</td>\n",
       "      <td>...</td>\n",
       "      <td>4.50</td>\n",
       "      <td>1.83</td>\n",
       "      <td>3.75</td>\n",
       "      <td>4.75</td>\n",
       "      <td>1.80</td>\n",
       "      <td>3.50</td>\n",
       "      <td>4.40</td>\n",
       "      <td>1.83</td>\n",
       "      <td>3.5</td>\n",
       "      <td>4.33</td>\n",
       "    </tr>\n",
       "    <tr>\n",
       "      <th>3217</th>\n",
       "      <td>3218</td>\n",
       "      <td>1729</td>\n",
       "      <td>1729</td>\n",
       "      <td>2012/2013</td>\n",
       "      <td>1</td>\n",
       "      <td>2012-08-19</td>\n",
       "      <td>1228232</td>\n",
       "      <td>8456</td>\n",
       "      <td>8466</td>\n",
       "      <td>3</td>\n",
       "      <td>...</td>\n",
       "      <td>19.00</td>\n",
       "      <td>1.20</td>\n",
       "      <td>7.00</td>\n",
       "      <td>19.00</td>\n",
       "      <td>1.18</td>\n",
       "      <td>6.25</td>\n",
       "      <td>16.00</td>\n",
       "      <td>1.17</td>\n",
       "      <td>6.5</td>\n",
       "      <td>17.00</td>\n",
       "    </tr>\n",
       "    <tr>\n",
       "      <th>3218</th>\n",
       "      <td>3219</td>\n",
       "      <td>1729</td>\n",
       "      <td>1729</td>\n",
       "      <td>2012/2013</td>\n",
       "      <td>1</td>\n",
       "      <td>2012-08-18</td>\n",
       "      <td>1228233</td>\n",
       "      <td>10261</td>\n",
       "      <td>8586</td>\n",
       "      <td>2</td>\n",
       "      <td>...</td>\n",
       "      <td>2.80</td>\n",
       "      <td>2.62</td>\n",
       "      <td>3.40</td>\n",
       "      <td>2.75</td>\n",
       "      <td>2.60</td>\n",
       "      <td>3.30</td>\n",
       "      <td>2.75</td>\n",
       "      <td>2.50</td>\n",
       "      <td>3.4</td>\n",
       "      <td>2.70</td>\n",
       "    </tr>\n",
       "    <tr>\n",
       "      <th>3219</th>\n",
       "      <td>3220</td>\n",
       "      <td>1729</td>\n",
       "      <td>1729</td>\n",
       "      <td>2012/2013</td>\n",
       "      <td>1</td>\n",
       "      <td>2012-08-18</td>\n",
       "      <td>1228234</td>\n",
       "      <td>10172</td>\n",
       "      <td>10003</td>\n",
       "      <td>0</td>\n",
       "      <td>...</td>\n",
       "      <td>3.60</td>\n",
       "      <td>2.00</td>\n",
       "      <td>3.50</td>\n",
       "      <td>4.00</td>\n",
       "      <td>2.00</td>\n",
       "      <td>3.40</td>\n",
       "      <td>3.60</td>\n",
       "      <td>2.00</td>\n",
       "      <td>3.4</td>\n",
       "      <td>3.60</td>\n",
       "    </tr>\n",
       "  </tbody>\n",
       "</table>\n",
       "<p>5 rows × 115 columns</p>\n",
       "</div>"
      ],
      "text/plain": [
       "        id  country_id  league_id     season  stage       date  match_api_id  \\\n",
       "3215  3216        1729       1729  2012/2013      1 2012-08-20       1228230   \n",
       "3216  3217        1729       1729  2012/2013      1 2012-08-18       1228231   \n",
       "3217  3218        1729       1729  2012/2013      1 2012-08-19       1228232   \n",
       "3218  3219        1729       1729  2012/2013      1 2012-08-18       1228233   \n",
       "3219  3220        1729       1729  2012/2013      1 2012-08-18       1228234   \n",
       "\n",
       "      home_team_api_id  away_team_api_id  home_team_goal  ...      SJA   VCH  \\\n",
       "3215              8668             10260               1  ...     1.91  4.30   \n",
       "3216              9879              9850               5  ...     4.50  1.83   \n",
       "3217              8456              8466               3  ...    19.00  1.20   \n",
       "3218             10261              8586               2  ...     2.80  2.62   \n",
       "3219             10172             10003               0  ...     3.60  2.00   \n",
       "\n",
       "       VCD    VCA   GBH   GBD    GBA   BSH  BSD    BSA  \n",
       "3215  3.70   1.87  4.60  3.50   1.83  4.00  3.4   1.91  \n",
       "3216  3.75   4.75  1.80  3.50   4.40  1.83  3.5   4.33  \n",
       "3217  7.00  19.00  1.18  6.25  16.00  1.17  6.5  17.00  \n",
       "3218  3.40   2.75  2.60  3.30   2.75  2.50  3.4   2.70  \n",
       "3219  3.50   4.00  2.00  3.40   3.60  2.00  3.4   3.60  \n",
       "\n",
       "[5 rows x 115 columns]"
      ]
     },
     "execution_count": 167,
     "metadata": {},
     "output_type": "execute_result"
    }
   ],
   "source": [
    "selected_countries = ['England']\n",
    "countries = countries[countries.name.isin(selected_countries)]\n",
    "leagues = countries.merge(leagues, on='id', suffixes=('', '_y'))\n",
    "matches = matches[matches.league_id.isin(leagues.id)]\n",
    "matches.dropna(inplace=True)\n",
    "matches.head()"
   ]
  },
  {
   "cell_type": "code",
   "execution_count": 168,
   "metadata": {
    "collapsed": false
   },
   "outputs": [],
   "source": [
    "def get_team_long_name(team_id):\n",
    "    return teams.loc[teams.team_api_id == team_id, 'team_long_name'].values[0]\n",
    "\n",
    "def get_team_short_name(team_id):\n",
    "    return teams.loc[teams.team_api_id == team_id, 'team_short_name'].values[0]\n",
    "\n",
    "def get_formation(match_api_id, team_type):\n",
    "    formation_dict = Counter([matches.loc[matches.match_api_id == match_api_id]['%s_player_Y%d'%(team_type, i)].values[0] for i in range(1, 12)])\n",
    "    sorted_keys = sorted(formation_dict)\n",
    "\n",
    "    formation = ''\n",
    "    for key in sorted_keys[1:-1]:\n",
    "        y = formation_dict[key]\n",
    "        formation += '%d-' % y\n",
    "    formation += '%d' % formation_dict[sorted_keys[-1]]\n",
    "    \n",
    "    return formation\n",
    "\n",
    "matches['home_team_long_name'] = matches.home_team_api_id.map(get_team_long_name)\n",
    "matches['home_team_short_name'] = matches.home_team_api_id.map(get_team_short_name)\n",
    "\n",
    "matches['away_team_long_name'] = matches.away_team_api_id.map(get_team_long_name)\n",
    "matches['away_team_short_name'] = matches.away_team_api_id.map(get_team_short_name)\n",
    "\n",
    "matches['home_team_formation'] = matches.match_api_id.apply(get_formation, args=('home', ))\n",
    "matches['away_team_formation'] = matches.match_api_id.apply(get_formation, args=('away',))"
   ]
  },
  {
   "cell_type": "code",
   "execution_count": 169,
   "metadata": {
    "collapsed": false
   },
   "outputs": [
    {
     "data": {
      "text/html": [
       "<div>\n",
       "<table border=\"1\" class=\"dataframe\">\n",
       "  <thead>\n",
       "    <tr style=\"text-align: right;\">\n",
       "      <th></th>\n",
       "      <th>home_team_goal</th>\n",
       "      <th>away_team_goal</th>\n",
       "      <th>home_team_short_name</th>\n",
       "      <th>away_team_short_name</th>\n",
       "    </tr>\n",
       "  </thead>\n",
       "  <tbody>\n",
       "    <tr>\n",
       "      <th>3215</th>\n",
       "      <td>1</td>\n",
       "      <td>0</td>\n",
       "      <td>EVE</td>\n",
       "      <td>MUN</td>\n",
       "    </tr>\n",
       "    <tr>\n",
       "      <th>3216</th>\n",
       "      <td>5</td>\n",
       "      <td>0</td>\n",
       "      <td>FUL</td>\n",
       "      <td>NOR</td>\n",
       "    </tr>\n",
       "    <tr>\n",
       "      <th>3217</th>\n",
       "      <td>3</td>\n",
       "      <td>2</td>\n",
       "      <td>MCI</td>\n",
       "      <td>SOU</td>\n",
       "    </tr>\n",
       "    <tr>\n",
       "      <th>3218</th>\n",
       "      <td>2</td>\n",
       "      <td>1</td>\n",
       "      <td>NEW</td>\n",
       "      <td>TOT</td>\n",
       "    </tr>\n",
       "    <tr>\n",
       "      <th>3219</th>\n",
       "      <td>0</td>\n",
       "      <td>5</td>\n",
       "      <td>QPR</td>\n",
       "      <td>SWA</td>\n",
       "    </tr>\n",
       "  </tbody>\n",
       "</table>\n",
       "</div>"
      ],
      "text/plain": [
       "      home_team_goal  away_team_goal home_team_short_name away_team_short_name\n",
       "3215               1               0                  EVE                  MUN\n",
       "3216               5               0                  FUL                  NOR\n",
       "3217               3               2                  MCI                  SOU\n",
       "3218               2               1                  NEW                  TOT\n",
       "3219               0               5                  QPR                  SWA"
      ]
     },
     "execution_count": 169,
     "metadata": {},
     "output_type": "execute_result"
    }
   ],
   "source": [
    "matches[['home_team_goal', 'away_team_goal', 'home_team_short_name', 'away_team_short_name']].head()"
   ]
  },
  {
   "cell_type": "code",
   "execution_count": 170,
   "metadata": {
    "collapsed": true
   },
   "outputs": [],
   "source": [
    "def calculate_result(match_df):\n",
    "    home_team_goals = match_df['home_team_goal']\n",
    "    away_team_goals = match_df['away_team_goal']\n",
    "    \n",
    "    if home_team_goals > away_team_goals:\n",
    "        return 'home'\n",
    "    elif away_team_goals > home_team_goals:\n",
    "        return 'away'\n",
    "    else:\n",
    "        return 'draw'\n",
    "\n",
    "matches['result'] = matches.apply(calculate_result, axis=1)"
   ]
  },
  {
   "cell_type": "code",
   "execution_count": 171,
   "metadata": {
    "collapsed": false
   },
   "outputs": [],
   "source": [
    "def calculate_crosses_count(crosses):\n",
    "    parsed_xml = BeautifulSoup(crosses, 'xml')\n",
    "    num_crosses = defaultdict(int)\n",
    "    \n",
    "    for x in parsed_xml.find_all('value'):\n",
    "        if x.crosses:\n",
    "            if x.team:\n",
    "                num_crosses[x.team.text] += 1\n",
    "    \n",
    "    return num_crosses\n",
    "\n",
    "crosses_info = matches.cross.map(calculate_crosses_count)"
   ]
  },
  {
   "cell_type": "code",
   "execution_count": 172,
   "metadata": {
    "collapsed": false
   },
   "outputs": [],
   "source": [
    "def get_crosses_list(crosses_info, matches):\n",
    "    home_team_crosses = []\n",
    "    away_team_crosses = []\n",
    "    counter = 0\n",
    "    \n",
    "    for team_id in matches.home_team_api_id.values:\n",
    "        home_team_crosses.append(crosses_info.iloc[counter][str(team_id)])\n",
    "        counter += 1\n",
    "        \n",
    "    counter = 0\n",
    "    for team_id in matches.away_team_api_id.values:\n",
    "        away_team_crosses.append(crosses_info.iloc[counter][str(team_id)])\n",
    "        counter += 1\n",
    "        \n",
    "    return (home_team_crosses, away_team_crosses)"
   ]
  },
  {
   "cell_type": "code",
   "execution_count": 173,
   "metadata": {
    "collapsed": false
   },
   "outputs": [],
   "source": [
    "matches['num_home_team_crosses'], matches['num_away_team_crosses'] = get_crosses_list(crosses_info, matches)"
   ]
  },
  {
   "cell_type": "code",
   "execution_count": 178,
   "metadata": {
    "collapsed": false
   },
   "outputs": [],
   "source": [
    "features = ['date', 'home_team_formation', 'home_team_short_name', 'away_team_formation', \\\n",
    "            'away_team_short_name',  'stage', 'num_home_team_crosses', 'num_away_team_crosses',\\\n",
    "            'B365H','B365D','B365A','result']"
   ]
  },
  {
   "cell_type": "code",
   "execution_count": 179,
   "metadata": {
    "collapsed": true
   },
   "outputs": [],
   "source": [
    "from sklearn.preprocessing import LabelEncoder"
   ]
  },
  {
   "cell_type": "code",
   "execution_count": 180,
   "metadata": {
    "collapsed": true
   },
   "outputs": [],
   "source": [
    "for feature in ['home_team_formation', 'home_team_short_name', 'away_team_formation', 'away_team_short_name', 'result']:\n",
    "    lbl = LabelEncoder()\n",
    "    matches[feature] = lbl.fit_transform(matches[feature])"
   ]
  },
  {
   "cell_type": "code",
   "execution_count": 181,
   "metadata": {
    "collapsed": false
   },
   "outputs": [],
   "source": [
    "matches['weekday'] = matches.date.dt.weekday\n",
    "matches['day'] = matches.date.dt.day"
   ]
  },
  {
   "cell_type": "code",
   "execution_count": 182,
   "metadata": {
    "collapsed": true
   },
   "outputs": [],
   "source": [
    "X = matches[['home_team_formation', 'home_team_short_name', 'away_team_formation', \\\n",
    "            'away_team_short_name',  'stage', 'num_home_team_crosses', 'num_away_team_crosses', \\\n",
    "            'B365H','B365D','B365A']]\n",
    "y = matches.result"
   ]
  },
  {
   "cell_type": "code",
   "execution_count": 183,
   "metadata": {
    "collapsed": false
   },
   "outputs": [],
   "source": [
    "from sklearn.cross_validation import train_test_split\n",
    "\n",
    "X_train, X_test, y_train, y_test = train_test_split(X, y, test_size=0.2, random_state=44)"
   ]
  },
  {
   "cell_type": "code",
   "execution_count": 201,
   "metadata": {
    "collapsed": false
   },
   "outputs": [
    {
     "data": {
      "text/plain": [
       "LogisticRegression(C=1.0, class_weight=None, dual=False, fit_intercept=True,\n",
       "          intercept_scaling=1, max_iter=100, multi_class='ovr', n_jobs=1,\n",
       "          penalty='l2', random_state=None, solver='liblinear', tol=0.0001,\n",
       "          verbose=0, warm_start=False)"
      ]
     },
     "execution_count": 201,
     "metadata": {},
     "output_type": "execute_result"
    }
   ],
   "source": [
    "from sklearn.linear_model import LogisticRegression\n",
    "from sklearn.tree import DecisionTreeClassifier\n",
    "from sklearn.ensemble import BaggingClassifier, AdaBoostClassifier\n",
    "from sklearn.neighbors import KNeighborsClassifier\n",
    "\n",
    "est = LogisticRegression()\n",
    "est.fit(X_train, y_train)"
   ]
  },
  {
   "cell_type": "code",
   "execution_count": 202,
   "metadata": {
    "collapsed": false
   },
   "outputs": [
    {
     "name": "stdout",
     "output_type": "stream",
     "text": [
      "Accuracy score on test set 0.578947 \n"
     ]
    }
   ],
   "source": [
    "from sklearn.metrics import accuracy_score\n",
    "\n",
    "print('Accuracy score on test set %f '%(accuracy_score(y_test, est.predict(X_test))))"
   ]
  },
  {
   "cell_type": "code",
   "execution_count": 160,
   "metadata": {
    "collapsed": false
   },
   "outputs": [
    {
     "data": {
      "text/plain": [
       "'<goal><value><comment>n</comment><stats><goals>1</goals><shoton>1</shoton></stats><event_incident_typefk>406</event_incident_typefk><elapsed>57</elapsed><player2>24156</player2><subtype>header</subtype><player1>39618</player1><sortorder>4</sortorder><team>8668</team><id>2299281</id><n>327</n><type>goal</type><goal_type>n</goal_type></value></goal>'"
      ]
     },
     "execution_count": 160,
     "metadata": {},
     "output_type": "execute_result"
    }
   ],
   "source": [
    "matches.goal.values[0]"
   ]
  },
  {
   "cell_type": "code",
   "execution_count": null,
   "metadata": {
    "collapsed": true
   },
   "outputs": [],
   "source": []
  },
  {
   "cell_type": "code",
   "execution_count": null,
   "metadata": {
    "collapsed": true
   },
   "outputs": [],
   "source": []
  },
  {
   "cell_type": "code",
   "execution_count": null,
   "metadata": {
    "collapsed": true
   },
   "outputs": [],
   "source": []
  },
  {
   "cell_type": "code",
   "execution_count": null,
   "metadata": {
    "collapsed": true
   },
   "outputs": [],
   "source": []
  },
  {
   "cell_type": "code",
   "execution_count": null,
   "metadata": {
    "collapsed": true
   },
   "outputs": [],
   "source": []
  }
 ],
 "metadata": {
  "anaconda-cloud": {},
  "kernelspec": {
   "display_name": "Python [Root]",
   "language": "python",
   "name": "Python [Root]"
  },
  "language_info": {
   "codemirror_mode": {
    "name": "ipython",
    "version": 3
   },
   "file_extension": ".py",
   "mimetype": "text/x-python",
   "name": "python",
   "nbconvert_exporter": "python",
   "pygments_lexer": "ipython3",
   "version": "3.5.2"
  }
 },
 "nbformat": 4,
 "nbformat_minor": 0
}
